{
 "cells": [
  {
   "cell_type": "markdown",
   "id": "bc9880bf",
   "metadata": {},
   "source": [
    "# Imports"
   ]
  },
  {
   "cell_type": "code",
   "execution_count": 2,
   "id": "ad4c1c28",
   "metadata": {},
   "outputs": [
    {
     "name": "stderr",
     "output_type": "stream",
     "text": [
      "[nltk_data] Downloading package stopwords to C:\\Users\\aman\n",
      "[nltk_data]     raj\\AppData\\Roaming\\nltk_data...\n",
      "[nltk_data]   Package stopwords is already up-to-date!\n"
     ]
    },
    {
     "data": {
      "text/plain": [
       "'!\"#$%&\\'()*+,-./:;<=>?@[\\\\]^_`{|}~'"
      ]
     },
     "execution_count": 2,
     "metadata": {},
     "output_type": "execute_result"
    }
   ],
   "source": [
    "import numpy as np\n",
    "import pandas as pd\n",
    "import seaborn as sns\n",
    "\n",
    "import matplotlib.pyplot as plt\n",
    "%matplotlib inline\n",
    "\n",
    "import re\n",
    "import nltk\n",
    "from nltk.corpus import stopwords\n",
    "from nltk.stem.porter import PorterStemmer\n",
    "porter = PorterStemmer()\n",
    "nltk.download('stopwords')\n",
    "stop_words=set(stopwords.words(\"english\"))\n",
    "##############################################################\n",
    "import string\n",
    "string.punctuation"
   ]
  },
  {
   "cell_type": "markdown",
   "id": "6ed10899",
   "metadata": {},
   "source": [
    "# Spam vs Ham Dataset"
   ]
  },
  {
   "cell_type": "code",
   "execution_count": 3,
   "id": "2b18045f",
   "metadata": {},
   "outputs": [
    {
     "data": {
      "text/html": [
       "<div>\n",
       "<style scoped>\n",
       "    .dataframe tbody tr th:only-of-type {\n",
       "        vertical-align: middle;\n",
       "    }\n",
       "\n",
       "    .dataframe tbody tr th {\n",
       "        vertical-align: top;\n",
       "    }\n",
       "\n",
       "    .dataframe thead th {\n",
       "        text-align: right;\n",
       "    }\n",
       "</style>\n",
       "<table border=\"1\" class=\"dataframe\">\n",
       "  <thead>\n",
       "    <tr style=\"text-align: right;\">\n",
       "      <th></th>\n",
       "      <th>label</th>\n",
       "      <th>message</th>\n",
       "    </tr>\n",
       "  </thead>\n",
       "  <tbody>\n",
       "    <tr>\n",
       "      <th>0</th>\n",
       "      <td>ham</td>\n",
       "      <td>Go until jurong point, crazy.. Available only ...</td>\n",
       "    </tr>\n",
       "    <tr>\n",
       "      <th>1</th>\n",
       "      <td>ham</td>\n",
       "      <td>Ok lar... Joking wif u oni...</td>\n",
       "    </tr>\n",
       "  </tbody>\n",
       "</table>\n",
       "</div>"
      ],
      "text/plain": [
       "  label                                            message\n",
       "0   ham  Go until jurong point, crazy.. Available only ...\n",
       "1   ham                      Ok lar... Joking wif u oni..."
      ]
     },
     "execution_count": 3,
     "metadata": {},
     "output_type": "execute_result"
    }
   ],
   "source": [
    "data = pd.read_csv(\"./Datasets/SMSSpamCollection\", sep='\\t', names=['label','message'])\n",
    "data.head(2)"
   ]
  },
  {
   "cell_type": "code",
   "execution_count": 4,
   "id": "6de9aa2f",
   "metadata": {},
   "outputs": [
    {
     "data": {
      "text/plain": [
       "('Go until jurong point, crazy.. Available only in bugis n great world la e buffet... Cine there got amore wat...',\n",
       " (5572, 2))"
      ]
     },
     "execution_count": 4,
     "metadata": {},
     "output_type": "execute_result"
    }
   ],
   "source": [
    "list(data.message)[0], data.shape"
   ]
  },
  {
   "cell_type": "code",
   "execution_count": 5,
   "id": "26841ca6",
   "metadata": {},
   "outputs": [
    {
     "data": {
      "text/html": [
       "<div>\n",
       "<style scoped>\n",
       "    .dataframe tbody tr th:only-of-type {\n",
       "        vertical-align: middle;\n",
       "    }\n",
       "\n",
       "    .dataframe tbody tr th {\n",
       "        vertical-align: top;\n",
       "    }\n",
       "\n",
       "    .dataframe thead th {\n",
       "        text-align: right;\n",
       "    }\n",
       "</style>\n",
       "<table border=\"1\" class=\"dataframe\">\n",
       "  <thead>\n",
       "    <tr style=\"text-align: right;\">\n",
       "      <th></th>\n",
       "      <th>label</th>\n",
       "      <th>message</th>\n",
       "    </tr>\n",
       "  </thead>\n",
       "  <tbody>\n",
       "    <tr>\n",
       "      <th>0</th>\n",
       "      <td>0</td>\n",
       "      <td>Go until jurong point, crazy.. Available only ...</td>\n",
       "    </tr>\n",
       "    <tr>\n",
       "      <th>1</th>\n",
       "      <td>0</td>\n",
       "      <td>Ok lar... Joking wif u oni...</td>\n",
       "    </tr>\n",
       "    <tr>\n",
       "      <th>2</th>\n",
       "      <td>1</td>\n",
       "      <td>Free entry in 2 a wkly comp to win FA Cup fina...</td>\n",
       "    </tr>\n",
       "    <tr>\n",
       "      <th>3</th>\n",
       "      <td>0</td>\n",
       "      <td>U dun say so early hor... U c already then say...</td>\n",
       "    </tr>\n",
       "    <tr>\n",
       "      <th>4</th>\n",
       "      <td>0</td>\n",
       "      <td>Nah I don't think he goes to usf, he lives aro...</td>\n",
       "    </tr>\n",
       "    <tr>\n",
       "      <th>5</th>\n",
       "      <td>1</td>\n",
       "      <td>FreeMsg Hey there darling it's been 3 week's n...</td>\n",
       "    </tr>\n",
       "    <tr>\n",
       "      <th>6</th>\n",
       "      <td>0</td>\n",
       "      <td>Even my brother is not like to speak with me. ...</td>\n",
       "    </tr>\n",
       "    <tr>\n",
       "      <th>7</th>\n",
       "      <td>0</td>\n",
       "      <td>As per your request 'Melle Melle (Oru Minnamin...</td>\n",
       "    </tr>\n",
       "    <tr>\n",
       "      <th>8</th>\n",
       "      <td>1</td>\n",
       "      <td>WINNER!! As a valued network customer you have...</td>\n",
       "    </tr>\n",
       "  </tbody>\n",
       "</table>\n",
       "</div>"
      ],
      "text/plain": [
       "   label                                            message\n",
       "0      0  Go until jurong point, crazy.. Available only ...\n",
       "1      0                      Ok lar... Joking wif u oni...\n",
       "2      1  Free entry in 2 a wkly comp to win FA Cup fina...\n",
       "3      0  U dun say so early hor... U c already then say...\n",
       "4      0  Nah I don't think he goes to usf, he lives aro...\n",
       "5      1  FreeMsg Hey there darling it's been 3 week's n...\n",
       "6      0  Even my brother is not like to speak with me. ...\n",
       "7      0  As per your request 'Melle Melle (Oru Minnamin...\n",
       "8      1  WINNER!! As a valued network customer you have..."
      ]
     },
     "execution_count": 5,
     "metadata": {},
     "output_type": "execute_result"
    }
   ],
   "source": [
    "data['label'] = (data.label =='spam').astype(int)\n",
    "data.head(9)"
   ]
  },
  {
   "cell_type": "code",
   "execution_count": 6,
   "id": "11883bec",
   "metadata": {},
   "outputs": [
    {
     "data": {
      "text/plain": [
       "((3733,), (1839,), (3733,), (1839,))"
      ]
     },
     "execution_count": 6,
     "metadata": {},
     "output_type": "execute_result"
    }
   ],
   "source": [
    "X = data.message \n",
    "y = data.label\n",
    "from sklearn.model_selection import train_test_split\n",
    "X_train, X_test, y_train, y_test = train_test_split(X, y, test_size=0.33, random_state=42)\n",
    "y_train = np.array(y_train)\n",
    "y_test = np.array(y_test)\n",
    "X_train.shape, X_test.shape, y_train.shape, y_test.shape"
   ]
  },
  {
   "cell_type": "code",
   "execution_count": 7,
   "id": "400c89ef",
   "metadata": {},
   "outputs": [],
   "source": [
    "def text_process(mess):\n",
    "    nopunc = [char for char in mess if char not in string.punctuation]\n",
    "    nopunc = \"\".join(nopunc)\n",
    "    return [porter.stem(word) for word in nopunc.split() if word.lower() not in stopwords.words('english')]"
   ]
  },
  {
   "cell_type": "markdown",
   "id": "e6bd1668",
   "metadata": {},
   "source": [
    "## CountVectorizer "
   ]
  },
  {
   "cell_type": "code",
   "execution_count": 8,
   "id": "918692f1",
   "metadata": {},
   "outputs": [],
   "source": [
    "from sklearn.feature_extraction.text import CountVectorizer\n",
    "bow_transformer= CountVectorizer(analyzer=text_process)\n",
    "bow_transformer.fit(X_train)\n",
    "messages_bow_train = bow_transformer.transform(X_train)\n",
    "messages_bow_test = bow_transformer.transform(X_test)"
   ]
  },
  {
   "cell_type": "code",
   "execution_count": 9,
   "id": "91403aa3",
   "metadata": {},
   "outputs": [
    {
     "data": {
      "text/plain": [
       "(33657, (3733, 6595))"
      ]
     },
     "execution_count": 9,
     "metadata": {},
     "output_type": "execute_result"
    }
   ],
   "source": [
    "(messages_bow_train.todense() != 0).sum(), messages_bow_train.shape"
   ]
  },
  {
   "cell_type": "markdown",
   "id": "d0c3b5f3",
   "metadata": {},
   "source": [
    "## TfidfTransformer"
   ]
  },
  {
   "cell_type": "code",
   "execution_count": 10,
   "id": "57088008",
   "metadata": {},
   "outputs": [],
   "source": [
    "from sklearn.feature_extraction.text import TfidfTransformer\n",
    "tfidf_transformer = TfidfTransformer()\n",
    "tfidf_transformer.fit(messages_bow_train)\n",
    "tfidf_train = tfidf_transformer.transform(messages_bow_train)\n",
    "tfidf_test = tfidf_transformer.transform(messages_bow_test)"
   ]
  },
  {
   "cell_type": "code",
   "execution_count": 11,
   "id": "8d100709",
   "metadata": {},
   "outputs": [
    {
     "data": {
      "text/plain": [
       "(33657, (3733, 6595))"
      ]
     },
     "execution_count": 11,
     "metadata": {},
     "output_type": "execute_result"
    }
   ],
   "source": [
    "(tfidf_train.todense() != 0).sum(), tfidf_train.shape"
   ]
  },
  {
   "cell_type": "code",
   "execution_count": 12,
   "id": "2cdbcac2",
   "metadata": {},
   "outputs": [
    {
     "data": {
      "text/plain": [
       "33657"
      ]
     },
     "execution_count": 12,
     "metadata": {},
     "output_type": "execute_result"
    }
   ],
   "source": [
    "np.sum(tfidf_train.todense() != 0)"
   ]
  },
  {
   "cell_type": "code",
   "execution_count": 13,
   "id": "212fe26f",
   "metadata": {},
   "outputs": [
    {
     "data": {
      "text/plain": [
       "((3733, 6595), (1839, 6595), (3733,), (1839,))"
      ]
     },
     "execution_count": 13,
     "metadata": {},
     "output_type": "execute_result"
    }
   ],
   "source": [
    "Vector_form_train = np.array(tfidf_train.todense())\n",
    "Vector_form_test = np.array(tfidf_test.todense())\n",
    "Vector_form_train.shape, Vector_form_test.shape, y_train.shape,  y_test.shape"
   ]
  },
  {
   "cell_type": "markdown",
   "id": "b9a004e3",
   "metadata": {},
   "source": [
    "# Algorithm"
   ]
  },
  {
   "cell_type": "markdown",
   "id": "f4845de0",
   "metadata": {},
   "source": [
    "## K-Means Using Scikit"
   ]
  },
  {
   "cell_type": "code",
   "execution_count": 14,
   "id": "4ef71d28",
   "metadata": {},
   "outputs": [],
   "source": [
    "no_classes = len(set(y_train))"
   ]
  },
  {
   "cell_type": "code",
   "execution_count": 15,
   "id": "36beda3d",
   "metadata": {},
   "outputs": [
    {
     "data": {
      "text/plain": [
       "KMeans(n_clusters=2, random_state=0)"
      ]
     },
     "execution_count": 15,
     "metadata": {},
     "output_type": "execute_result"
    }
   ],
   "source": [
    "from sklearn.cluster import KMeans\n",
    "kmean = KMeans(n_clusters=no_classes, random_state=0)\n",
    "kmean.fit(Vector_form_train)"
   ]
  },
  {
   "cell_type": "code",
   "execution_count": 17,
   "id": "6727d5fb",
   "metadata": {},
   "outputs": [
    {
     "data": {
      "text/plain": [
       "(2, 6595)"
      ]
     },
     "execution_count": 17,
     "metadata": {},
     "output_type": "execute_result"
    }
   ],
   "source": [
    "kmean.cluster_centers_.shape"
   ]
  },
  {
   "cell_type": "code",
   "execution_count": 18,
   "id": "1fcac333",
   "metadata": {},
   "outputs": [
    {
     "data": {
      "text/plain": [
       "(3733,)"
      ]
     },
     "execution_count": 18,
     "metadata": {},
     "output_type": "execute_result"
    }
   ],
   "source": [
    "pred = kmean.labels_\n",
    "pred.shape"
   ]
  },
  {
   "cell_type": "code",
   "execution_count": 21,
   "id": "943ca7a2",
   "metadata": {},
   "outputs": [
    {
     "name": "stdout",
     "output_type": "stream",
     "text": [
      "[[3081  151]\n",
      " [ 499    2]]\n"
     ]
    }
   ],
   "source": [
    "from sklearn.metrics import confusion_matrix, classification_report\n",
    "cm = confusion_matrix(y_train,pred)\n",
    "print(cm)"
   ]
  },
  {
   "cell_type": "code",
   "execution_count": 22,
   "id": "4cec9d26",
   "metadata": {},
   "outputs": [
    {
     "data": {
      "text/plain": [
       "<AxesSubplot:>"
      ]
     },
     "execution_count": 22,
     "metadata": {},
     "output_type": "execute_result"
    },
    {
     "data": {
      "image/png": "[encoded data removed]",
      "text/plain": [
       "<Figure size 432x288 with 2 Axes>"
      ]
     },
     "metadata": {
      "needs_background": "light"
     },
     "output_type": "display_data"
    }
   ],
   "source": [
    "sns.heatmap(cm)"
   ]
  },
  {
   "cell_type": "code",
   "execution_count": 23,
   "id": "f67abce2",
   "metadata": {},
   "outputs": [],
   "source": [
    "def whirl(matrix,n):\n",
    "      t = matrix[n:n+1,:]\n",
    "      nos = [t.shape[1]-1]\n",
    "      nos += list(range(0,t.shape[1]-1))\n",
    "      #print(nos)\n",
    "      matrix[n:n+1,:] = t[:,nos]\n",
    "      return matrix"
   ]
  },
  {
   "cell_type": "code",
   "execution_count": 24,
   "id": "b6916760",
   "metadata": {},
   "outputs": [],
   "source": [
    "for i in range(cm.shape[0]):\n",
    "      while np.max(cm[i,:]) != cm[i,i]:\n",
    "        cm = whirl(cm,i)"
   ]
  },
  {
   "cell_type": "code",
   "execution_count": 26,
   "id": "6a895aa4",
   "metadata": {},
   "outputs": [
    {
     "data": {
      "text/plain": [
       "array([[3081,  151],\n",
       "       [   2,  499]], dtype=int64)"
      ]
     },
     "execution_count": 26,
     "metadata": {},
     "output_type": "execute_result"
    }
   ],
   "source": [
    "cm"
   ]
  },
  {
   "cell_type": "code",
   "execution_count": 27,
   "id": "77004f16",
   "metadata": {},
   "outputs": [
    {
     "data": {
      "text/plain": [
       "<AxesSubplot:>"
      ]
     },
     "execution_count": 27,
     "metadata": {},
     "output_type": "execute_result"
    },
    {
     "data": {
      "image/png": "[encoded data removed]",
      "text/plain": [
       "<Figure size 432x288 with 2 Axes>"
      ]
     },
     "metadata": {
      "needs_background": "light"
     },
     "output_type": "display_data"
    }
   ],
   "source": [
    "sns.heatmap(cm)"
   ]
  },
  {
   "cell_type": "markdown",
   "id": "c18dbbda",
   "metadata": {},
   "source": [
    "## K-Means Manually"
   ]
  },
  {
   "cell_type": "code",
   "execution_count": 29,
   "id": "e8701431",
   "metadata": {},
   "outputs": [
    {
     "data": {
      "text/plain": [
       "(3733, 6595)"
      ]
     },
     "execution_count": 29,
     "metadata": {},
     "output_type": "execute_result"
    }
   ],
   "source": [
    "Vector_form_train.shape"
   ]
  },
  {
   "cell_type": "code",
   "execution_count": 28,
   "id": "9eda3580",
   "metadata": {},
   "outputs": [
    {
     "data": {
      "text/plain": [
       "2"
      ]
     },
     "execution_count": 28,
     "metadata": {},
     "output_type": "execute_result"
    }
   ],
   "source": [
    "no_classes = len(set(y_train))\n",
    "no_classes"
   ]
  },
  {
   "cell_type": "code",
   "execution_count": 30,
   "id": "f01aae3e",
   "metadata": {},
   "outputs": [
    {
     "data": {
      "text/plain": [
       "array([1879, 3395])"
      ]
     },
     "execution_count": 30,
     "metadata": {},
     "output_type": "execute_result"
    }
   ],
   "source": [
    "cluster_heads= np.random.randint(0,Vector_form_train.shape[0], size=no_classes)\n",
    "cluster_heads"
   ]
  },
  {
   "cell_type": "code",
   "execution_count": 31,
   "id": "df2746cb",
   "metadata": {},
   "outputs": [
    {
     "data": {
      "text/plain": [
       "(2, 6595)"
      ]
     },
     "execution_count": 31,
     "metadata": {},
     "output_type": "execute_result"
    }
   ],
   "source": [
    "my_heads = Vector_form_train[cluster_heads,:]\n",
    "my_heads.shape"
   ]
  },
  {
   "cell_type": "code",
   "execution_count": 33,
   "id": "21351373",
   "metadata": {},
   "outputs": [
    {
     "data": {
      "text/plain": [
       "array([[0., 0., 0., ..., 0., 0., 0.],\n",
       "       [0., 0., 0., ..., 0., 0., 0.]])"
      ]
     },
     "execution_count": 33,
     "metadata": {},
     "output_type": "execute_result"
    }
   ],
   "source": [
    "my_heads"
   ]
  },
  {
   "cell_type": "code",
   "execution_count": 34,
   "id": "c9480090",
   "metadata": {},
   "outputs": [
    {
     "name": "stdout",
     "output_type": "stream",
     "text": [
      "3733\n",
      "73\n",
      "52\n",
      "55\n",
      "28\n",
      "43\n",
      "51\n",
      "24\n",
      "4\n",
      "1\n",
      "0\n"
     ]
    }
   ],
   "source": [
    "#dMatrix_temp = dMatrix[:,:2].copy()  # very sparse so didn't help\n",
    "# dMatrix_temp = iris.data[:,:2]\n",
    "# no_class = 3\n",
    "dMatrix_temp = Vector_form_train.copy()\n",
    "no_class = 2\n",
    "\n",
    "cluster_heads= np.random.randint(0,dMatrix_temp.shape[0]-1, size=no_class)\n",
    "my_heads = dMatrix_temp[cluster_heads,:]\n",
    "\n",
    "\n",
    "initial_labels = np.random.randint(0,no_class-1, size=dMatrix_temp.shape[0])\n",
    "final_labels = np.random.randint(no_class+1,no_class+5, size=dMatrix_temp.shape[0] )\n",
    "\n",
    "while np.any(initial_labels != final_labels):\n",
    "      initial_labels = final_labels.copy()\n",
    "      labels_mat = np.zeros((dMatrix_temp.shape[0],no_class))\n",
    "      for i,vector in enumerate(my_heads):\n",
    "        # print(dMatrix_temp.shape)\n",
    "        # print(vector.shape)\n",
    "        # print((dMatrix_temp-vector).shape)\n",
    "        # print((np.square(dMatrix_temp-vector)).shape)\n",
    "        # print((np.sum(np.square(dMatrix_temp-vector),1)).shape)\n",
    "        # print((labels_mat[:,i:i+1]).shape)\n",
    "        labels_mat[:,i:i+1]=np.sum(np.square(dMatrix_temp-vector),1).reshape(-1,1)\n",
    "      final_labels = np.argmin(labels_mat,axis=1)\n",
    "      # print(\"final_label\")\n",
    "      # print(labels_mat.shape)\n",
    "      # print(final_labels)\n",
    "      # break\n",
    "      # create new heads\n",
    "      for label in range(0,no_class):\n",
    "        subset_dMat = dMatrix_temp[final_labels==label]\n",
    "        if subset_dMat.size==0: \n",
    "          #print(\"yes\")\n",
    "          pass\n",
    "        my_heads[label:label+1,:]=np.mean(subset_dMat, axis=0)\n",
    "      print(np.sum(initial_labels != final_labels))\n"
   ]
  },
  {
   "cell_type": "code",
   "execution_count": 42,
   "id": "a3e944a6",
   "metadata": {},
   "outputs": [
    {
     "data": {
      "text/plain": [
       "{0, 1}"
      ]
     },
     "execution_count": 42,
     "metadata": {},
     "output_type": "execute_result"
    }
   ],
   "source": [
    "set(final_labels)"
   ]
  },
  {
   "cell_type": "code",
   "execution_count": 48,
   "id": "d088d890",
   "metadata": {},
   "outputs": [
    {
     "name": "stdout",
     "output_type": "stream",
     "text": [
      "[[  95 3137]\n",
      " [  58  443]]\n"
     ]
    }
   ],
   "source": [
    "from sklearn.metrics import confusion_matrix\n",
    "cm=confusion_matrix(y_train, final_labels)\n",
    "print(cm)"
   ]
  },
  {
   "cell_type": "code",
   "execution_count": 49,
   "id": "3a73b358",
   "metadata": {},
   "outputs": [],
   "source": [
    "def whirl(matrix,n):\n",
    "      t = matrix[n:n+1,:]\n",
    "      nos = [t.shape[1]-1]\n",
    "      nos += list(range(0,t.shape[1]-1))\n",
    "      #print(nos)\n",
    "      matrix[n:n+1,:] = t[:,nos]\n",
    "      return matrix"
   ]
  },
  {
   "cell_type": "code",
   "execution_count": 50,
   "id": "0e4f02fb",
   "metadata": {},
   "outputs": [],
   "source": [
    "for i in range(cm.shape[0]):\n",
    "      while np.max(cm[i,:]) != cm[i,i]:\n",
    "        cm = whirl(cm,i)"
   ]
  },
  {
   "cell_type": "code",
   "execution_count": 51,
   "id": "dcd1e90b",
   "metadata": {},
   "outputs": [
    {
     "name": "stdout",
     "output_type": "stream",
     "text": [
      "[[3137   95]\n",
      " [  58  443]]\n"
     ]
    }
   ],
   "source": [
    "print(cm)"
   ]
  },
  {
   "cell_type": "code",
   "execution_count": 52,
   "id": "dcc3ffee",
   "metadata": {},
   "outputs": [
    {
     "data": {
      "text/plain": [
       "<AxesSubplot:>"
      ]
     },
     "execution_count": 52,
     "metadata": {},
     "output_type": "execute_result"
    },
    {
     "data": {
      "image/png": "[encoded data removed]",
      "text/plain": [
       "<Figure size 432x288 with 2 Axes>"
      ]
     },
     "metadata": {
      "needs_background": "light"
     },
     "output_type": "display_data"
    }
   ],
   "source": [
    "sns.heatmap(cm)"
   ]
  },
  {
   "cell_type": "markdown",
   "id": "115a8a6a",
   "metadata": {},
   "source": [
    "## Done "
   ]
  },
  {
   "cell_type": "code",
   "execution_count": null,
   "id": "12929623",
   "metadata": {},
   "outputs": [],
   "source": []
  }
 ],
 "metadata": {
  "kernelspec": {
   "display_name": "Python 3",
   "language": "python",
   "name": "python3"
  },
  "language_info": {
   "codemirror_mode": {
    "name": "ipython",
    "version": 3
   },
   "file_extension": ".py",
   "mimetype": "text/x-python",
   "name": "python",
   "nbconvert_exporter": "python",
   "pygments_lexer": "ipython3",
   "version": "3.8.10"
  }
 },
 "nbformat": 4,
 "nbformat_minor": 5
}
