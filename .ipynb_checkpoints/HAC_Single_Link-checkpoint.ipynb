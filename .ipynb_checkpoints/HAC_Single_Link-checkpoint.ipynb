{
 "cells": [
  {
   "cell_type": "markdown",
   "id": "bc9880bf",
   "metadata": {},
   "source": [
    "# Imports"
   ]
  },
  {
   "cell_type": "code",
   "execution_count": 76,
   "id": "ad4c1c28",
   "metadata": {},
   "outputs": [
    {
     "name": "stderr",
     "output_type": "stream",
     "text": [
      "[nltk_data] Downloading package stopwords to C:\\Users\\aman\n",
      "[nltk_data]     raj\\AppData\\Roaming\\nltk_data...\n",
      "[nltk_data]   Package stopwords is already up-to-date!\n"
     ]
    },
    {
     "data": {
      "text/plain": [
       "'!\"#$%&\\'()*+,-./:;<=>?@[\\\\]^_`{|}~'"
      ]
     },
     "execution_count": 76,
     "metadata": {},
     "output_type": "execute_result"
    }
   ],
   "source": [
    "import numpy as np\n",
    "import pandas as pd\n",
    "import seaborn as sns\n",
    "\n",
    "import matplotlib.pyplot as plt\n",
    "%matplotlib inline\n",
    "\n",
    "import re\n",
    "import nltk\n",
    "from nltk.corpus import stopwords\n",
    "from nltk.stem.porter import PorterStemmer\n",
    "porter = PorterStemmer()\n",
    "nltk.download('stopwords')\n",
    "stop_words=set(stopwords.words(\"english\"))\n",
    "##############################################################\n",
    "import string\n",
    "string.punctuation"
   ]
  },
  {
   "cell_type": "markdown",
   "id": "6ed10899",
   "metadata": {},
   "source": [
    "# Spam vs Ham Dataset"
   ]
  },
  {
   "cell_type": "code",
   "execution_count": 77,
   "id": "2b18045f",
   "metadata": {},
   "outputs": [
    {
     "data": {
      "text/html": [
       "<div>\n",
       "<style scoped>\n",
       "    .dataframe tbody tr th:only-of-type {\n",
       "        vertical-align: middle;\n",
       "    }\n",
       "\n",
       "    .dataframe tbody tr th {\n",
       "        vertical-align: top;\n",
       "    }\n",
       "\n",
       "    .dataframe thead th {\n",
       "        text-align: right;\n",
       "    }\n",
       "</style>\n",
       "<table border=\"1\" class=\"dataframe\">\n",
       "  <thead>\n",
       "    <tr style=\"text-align: right;\">\n",
       "      <th></th>\n",
       "      <th>label</th>\n",
       "      <th>message</th>\n",
       "    </tr>\n",
       "  </thead>\n",
       "  <tbody>\n",
       "    <tr>\n",
       "      <th>0</th>\n",
       "      <td>ham</td>\n",
       "      <td>Go until jurong point, crazy.. Available only ...</td>\n",
       "    </tr>\n",
       "    <tr>\n",
       "      <th>1</th>\n",
       "      <td>ham</td>\n",
       "      <td>Ok lar... Joking wif u oni...</td>\n",
       "    </tr>\n",
       "  </tbody>\n",
       "</table>\n",
       "</div>"
      ],
      "text/plain": [
       "  label                                            message\n",
       "0   ham  Go until jurong point, crazy.. Available only ...\n",
       "1   ham                      Ok lar... Joking wif u oni..."
      ]
     },
     "execution_count": 77,
     "metadata": {},
     "output_type": "execute_result"
    }
   ],
   "source": [
    "data = pd.read_csv(\"./Datasets/SMSSpamCollection\", sep='\\t', names=['label','message'])\n",
    "data.head(2)"
   ]
  },
  {
   "cell_type": "code",
   "execution_count": 78,
   "id": "6de9aa2f",
   "metadata": {},
   "outputs": [
    {
     "data": {
      "text/plain": [
       "('Go until jurong point, crazy.. Available only in bugis n great world la e buffet... Cine there got amore wat...',\n",
       " (5572, 2))"
      ]
     },
     "execution_count": 78,
     "metadata": {},
     "output_type": "execute_result"
    }
   ],
   "source": [
    "list(data.message)[0], data.shape"
   ]
  },
  {
   "cell_type": "code",
   "execution_count": 79,
   "id": "26841ca6",
   "metadata": {},
   "outputs": [
    {
     "data": {
      "text/html": [
       "<div>\n",
       "<style scoped>\n",
       "    .dataframe tbody tr th:only-of-type {\n",
       "        vertical-align: middle;\n",
       "    }\n",
       "\n",
       "    .dataframe tbody tr th {\n",
       "        vertical-align: top;\n",
       "    }\n",
       "\n",
       "    .dataframe thead th {\n",
       "        text-align: right;\n",
       "    }\n",
       "</style>\n",
       "<table border=\"1\" class=\"dataframe\">\n",
       "  <thead>\n",
       "    <tr style=\"text-align: right;\">\n",
       "      <th></th>\n",
       "      <th>label</th>\n",
       "      <th>message</th>\n",
       "    </tr>\n",
       "  </thead>\n",
       "  <tbody>\n",
       "    <tr>\n",
       "      <th>0</th>\n",
       "      <td>0</td>\n",
       "      <td>Go until jurong point, crazy.. Available only ...</td>\n",
       "    </tr>\n",
       "    <tr>\n",
       "      <th>1</th>\n",
       "      <td>0</td>\n",
       "      <td>Ok lar... Joking wif u oni...</td>\n",
       "    </tr>\n",
       "    <tr>\n",
       "      <th>2</th>\n",
       "      <td>1</td>\n",
       "      <td>Free entry in 2 a wkly comp to win FA Cup fina...</td>\n",
       "    </tr>\n",
       "    <tr>\n",
       "      <th>3</th>\n",
       "      <td>0</td>\n",
       "      <td>U dun say so early hor... U c already then say...</td>\n",
       "    </tr>\n",
       "    <tr>\n",
       "      <th>4</th>\n",
       "      <td>0</td>\n",
       "      <td>Nah I don't think he goes to usf, he lives aro...</td>\n",
       "    </tr>\n",
       "    <tr>\n",
       "      <th>5</th>\n",
       "      <td>1</td>\n",
       "      <td>FreeMsg Hey there darling it's been 3 week's n...</td>\n",
       "    </tr>\n",
       "    <tr>\n",
       "      <th>6</th>\n",
       "      <td>0</td>\n",
       "      <td>Even my brother is not like to speak with me. ...</td>\n",
       "    </tr>\n",
       "    <tr>\n",
       "      <th>7</th>\n",
       "      <td>0</td>\n",
       "      <td>As per your request 'Melle Melle (Oru Minnamin...</td>\n",
       "    </tr>\n",
       "    <tr>\n",
       "      <th>8</th>\n",
       "      <td>1</td>\n",
       "      <td>WINNER!! As a valued network customer you have...</td>\n",
       "    </tr>\n",
       "  </tbody>\n",
       "</table>\n",
       "</div>"
      ],
      "text/plain": [
       "   label                                            message\n",
       "0      0  Go until jurong point, crazy.. Available only ...\n",
       "1      0                      Ok lar... Joking wif u oni...\n",
       "2      1  Free entry in 2 a wkly comp to win FA Cup fina...\n",
       "3      0  U dun say so early hor... U c already then say...\n",
       "4      0  Nah I don't think he goes to usf, he lives aro...\n",
       "5      1  FreeMsg Hey there darling it's been 3 week's n...\n",
       "6      0  Even my brother is not like to speak with me. ...\n",
       "7      0  As per your request 'Melle Melle (Oru Minnamin...\n",
       "8      1  WINNER!! As a valued network customer you have..."
      ]
     },
     "execution_count": 79,
     "metadata": {},
     "output_type": "execute_result"
    }
   ],
   "source": [
    "data['label'] = (data.label =='spam').astype(int)\n",
    "data.head(9)"
   ]
  },
  {
   "cell_type": "code",
   "execution_count": 80,
   "id": "11883bec",
   "metadata": {},
   "outputs": [
    {
     "data": {
      "text/plain": [
       "((3733,), (1839,), (3733,), (1839,))"
      ]
     },
     "execution_count": 80,
     "metadata": {},
     "output_type": "execute_result"
    }
   ],
   "source": [
    "X = data.message \n",
    "y = data.label\n",
    "from sklearn.model_selection import train_test_split\n",
    "X_train, X_test, y_train, y_test = train_test_split(X, y, test_size=0.33, random_state=42)\n",
    "y_train = np.array(y_train)\n",
    "y_test = np.array(y_test)\n",
    "X_train.shape, X_test.shape, y_train.shape, y_test.shape"
   ]
  },
  {
   "cell_type": "code",
   "execution_count": 81,
   "id": "400c89ef",
   "metadata": {},
   "outputs": [],
   "source": [
    "def text_process(mess):\n",
    "    nopunc = [char for char in mess if char not in string.punctuation]\n",
    "    nopunc = \"\".join(nopunc)\n",
    "    return [porter.stem(word) for word in nopunc.split() if word.lower() not in stopwords.words('english')]"
   ]
  },
  {
   "cell_type": "markdown",
   "id": "e6bd1668",
   "metadata": {},
   "source": [
    "## CountVectorizer "
   ]
  },
  {
   "cell_type": "code",
   "execution_count": 82,
   "id": "918692f1",
   "metadata": {},
   "outputs": [],
   "source": [
    "from sklearn.feature_extraction.text import CountVectorizer\n",
    "bow_transformer= CountVectorizer(analyzer=text_process)\n",
    "bow_transformer.fit(X_train)\n",
    "messages_bow_train = bow_transformer.transform(X_train)\n",
    "messages_bow_test = bow_transformer.transform(X_test)"
   ]
  },
  {
   "cell_type": "code",
   "execution_count": 83,
   "id": "91403aa3",
   "metadata": {},
   "outputs": [
    {
     "data": {
      "text/plain": [
       "(33657, (3733, 6595))"
      ]
     },
     "execution_count": 83,
     "metadata": {},
     "output_type": "execute_result"
    }
   ],
   "source": [
    "(messages_bow_train.todense() != 0).sum(), messages_bow_train.shape"
   ]
  },
  {
   "cell_type": "markdown",
   "id": "d0c3b5f3",
   "metadata": {},
   "source": [
    "## TfidfTransformer"
   ]
  },
  {
   "cell_type": "code",
   "execution_count": 84,
   "id": "57088008",
   "metadata": {},
   "outputs": [],
   "source": [
    "from sklearn.feature_extraction.text import TfidfTransformer\n",
    "tfidf_transformer = TfidfTransformer()\n",
    "tfidf_transformer.fit(messages_bow_train)\n",
    "tfidf_train = tfidf_transformer.transform(messages_bow_train)\n",
    "tfidf_test = tfidf_transformer.transform(messages_bow_test)"
   ]
  },
  {
   "cell_type": "code",
   "execution_count": 85,
   "id": "8d100709",
   "metadata": {},
   "outputs": [
    {
     "data": {
      "text/plain": [
       "(33657, (3733, 6595))"
      ]
     },
     "execution_count": 85,
     "metadata": {},
     "output_type": "execute_result"
    }
   ],
   "source": [
    "(tfidf_train.todense() != 0).sum(), tfidf_train.shape"
   ]
  },
  {
   "cell_type": "code",
   "execution_count": 86,
   "id": "2cdbcac2",
   "metadata": {},
   "outputs": [
    {
     "data": {
      "text/plain": [
       "33657"
      ]
     },
     "execution_count": 86,
     "metadata": {},
     "output_type": "execute_result"
    }
   ],
   "source": [
    "np.sum(tfidf_train.todense() != 0)"
   ]
  },
  {
   "cell_type": "code",
   "execution_count": 87,
   "id": "212fe26f",
   "metadata": {},
   "outputs": [
    {
     "data": {
      "text/plain": [
       "((3733, 6595), (1839, 6595), (3733,), (1839,))"
      ]
     },
     "execution_count": 87,
     "metadata": {},
     "output_type": "execute_result"
    }
   ],
   "source": [
    "Vector_form_train = np.array(tfidf_train.todense())\n",
    "Vector_form_test = np.array(tfidf_test.todense())\n",
    "Vector_form_train.shape, Vector_form_test.shape, y_train.shape,  y_test.shape"
   ]
  },
  {
   "cell_type": "markdown",
   "id": "b9a004e3",
   "metadata": {},
   "source": [
    "# Algorithm"
   ]
  },
  {
   "cell_type": "markdown",
   "id": "f4845de0",
   "metadata": {},
   "source": [
    "## Using Library"
   ]
  },
  {
   "cell_type": "code",
   "execution_count": 133,
   "id": "4dbf5b35",
   "metadata": {},
   "outputs": [
    {
     "data": {
      "text/plain": [
       "AgglomerativeClustering(linkage='single', n_clusters=4)"
      ]
     },
     "execution_count": 133,
     "metadata": {},
     "output_type": "execute_result"
    }
   ],
   "source": [
    "from sklearn.cluster import AgglomerativeClustering\n",
    "model = AgglomerativeClustering(n_clusters=4,  linkage='single')\n",
    "model.fit(Vector_form_test[50:55,:])"
   ]
  },
  {
   "cell_type": "code",
   "execution_count": 134,
   "id": "a8ab7c09",
   "metadata": {},
   "outputs": [
    {
     "data": {
      "text/plain": [
       "array([0, 0, 3, 2, 1], dtype=int64)"
      ]
     },
     "execution_count": 134,
     "metadata": {},
     "output_type": "execute_result"
    }
   ],
   "source": [
    "model.labels_ # same output of manual and using Library for both single and complete"
   ]
  },
  {
   "cell_type": "markdown",
   "id": "8716c78f",
   "metadata": {},
   "source": [
    "## Manual"
   ]
  },
  {
   "cell_type": "code",
   "execution_count": 135,
   "id": "e0a9d5e1",
   "metadata": {},
   "outputs": [
    {
     "data": {
      "text/plain": [
       "40"
      ]
     },
     "execution_count": 135,
     "metadata": {},
     "output_type": "execute_result"
    }
   ],
   "source": [
    "np.sum(Vector_form_test[50:55,:].copy() != 0)"
   ]
  },
  {
   "cell_type": "code",
   "execution_count": 136,
   "id": "9c77c619",
   "metadata": {},
   "outputs": [
    {
     "name": "stdout",
     "output_type": "stream",
     "text": [
      "distance table\n",
      "[[0.         1.39585017 1.41421356 1.41421356 1.41421356]\n",
      " [1.39585017 0.         1.41421356 1.41421356 1.41421356]\n",
      " [1.41421356 1.41421356 0.         1.41421356 1.41421356]\n",
      " [1.41421356 1.41421356 1.41421356 0.         1.41421356]\n",
      " [1.41421356 1.41421356 1.41421356 1.41421356 0.        ]]\n",
      "\n",
      "REGROUP\n",
      "distance table\n",
      "[[0.         1.41421356 1.41421356 1.41421356]\n",
      " [1.41421356 0.         1.41421356 1.41421356]\n",
      " [1.41421356 1.41421356 0.         1.41421356]\n",
      " [1.41421356 1.41421356 1.41421356 0.        ]]\n",
      "\n",
      "REGROUP\n"
     ]
    }
   ],
   "source": [
    "dMatrix_temp =Vector_form_test[50:55,:].copy()\n",
    "no_groups = np.arange(0,dMatrix_temp.shape[0]).reshape(-1,1)\n",
    "while len(set(no_groups[:,-1:].flatten()  )) != 1:\n",
    "  ## keep combining\n",
    "  map_labels = no_groups[:,-1].flatten() # it is 1D\n",
    "  list_labels = list(set(map_labels))\n",
    "  map_list = list(range(len(list_labels)))\n",
    "  # maps to original labels\n",
    "  dict_list = dict(zip(list_labels, map_list))\n",
    "  rev_dict_list = dict(zip(map_list, list_labels))\n",
    "  #\n",
    "  distance_table = np.zeros((len(list_labels),len(list_labels)))\n",
    "  for class_i in list_labels:\n",
    "    for class_j in list_labels:\n",
    "      if class_i < class_j:\n",
    "        sub_Matrix_class_i = dMatrix_temp[map_labels==class_i]\n",
    "        sub_Matrix_class_j = dMatrix_temp[map_labels==class_j]\n",
    "\n",
    "        # single link\n",
    "        #\"\"\"\n",
    "        min_val = None\n",
    "        for vector in sub_Matrix_class_j:\n",
    "          v=np.min(np.sqrt(np.sum(np.square(sub_Matrix_class_i-vector), axis=1)))\n",
    "          if min_val is None:\n",
    "            min_val  = v\n",
    "          else:\n",
    "            min_val = min(min_val,v)\n",
    "        distance_table[dict_list[class_i],dict_list[class_j]] = min_val\n",
    "        distance_table[dict_list[class_j],dict_list[class_i]] = min_val\n",
    "\n",
    "        # Complete link\n",
    "        \"\"\"\n",
    "        max_val = None\n",
    "        for vector in sub_Matrix_class_j:\n",
    "          v=np.max(np.sqrt(np.sum(np.square(sub_Matrix_class_i-vector), axis=1)))\n",
    "          if max_val is None:\n",
    "            max_val  = v\n",
    "          else:\n",
    "            max_val = max(min_val,v)\n",
    "        distance_table[dict_list[class_i],dict_list[class_j]] = max_val\n",
    "        distance_table[dict_list[class_j],dict_list[class_i]] = max_val\n",
    "        #\"\"\"\n",
    "\n",
    "  print(\"distance table\")\n",
    "  print(distance_table)\n",
    "  print()\n",
    "  print(\"REGROUP\")\n",
    "\n",
    "  # Let's regroup\n",
    "  \n",
    "  max_v = np.max(distance_table)\n",
    "  for i in range(distance_table.shape[0]):\n",
    "    distance_table[i,i] = max_v +100\n",
    "  temp_group=no_groups[:,-1:].flatten()\n",
    "  min_v = np.min(distance_table)\n",
    "  a,b = np.where(distance_table==min_v)\n",
    "  sorted_list=sorted(list(zip(a,b)), key=lambda x: x[0])\n",
    "  reverse_map_list = [(rev_dict_list[i],rev_dict_list[j]) for i,j in sorted_list]\n",
    "  # print(\"*\"*40)\n",
    "  for i,j in reverse_map_list:\n",
    "    val_i = temp_group[i]\n",
    "    val_j = temp_group[j]\n",
    "    min_ij = min(val_i, val_j)\n",
    "    temp_group[temp_group==val_i] = min_ij\n",
    "    temp_group[temp_group==val_j] = min_ij\n",
    "  no_groups = np.hstack((no_groups, temp_group.reshape(-1,1)))\n",
    "  distance_table[distance_table==min_v] = max_v+100\n"
   ]
  },
  {
   "cell_type": "code",
   "execution_count": 137,
   "id": "7bba8a51",
   "metadata": {},
   "outputs": [
    {
     "data": {
      "text/plain": [
       "array([[101.41421356, 101.41421356, 101.41421356, 101.41421356],\n",
       "       [101.41421356, 101.41421356,   1.41421356,   1.41421356],\n",
       "       [101.41421356,   1.41421356, 101.41421356,   1.41421356],\n",
       "       [101.41421356,   1.41421356,   1.41421356, 101.41421356]])"
      ]
     },
     "execution_count": 137,
     "metadata": {},
     "output_type": "execute_result"
    }
   ],
   "source": [
    "distance_table"
   ]
  },
  {
   "cell_type": "code",
   "execution_count": 138,
   "id": "6c31cb52",
   "metadata": {},
   "outputs": [
    {
     "data": {
      "text/plain": [
       "array([[0, 0, 0],\n",
       "       [1, 0, 0],\n",
       "       [2, 2, 0],\n",
       "       [3, 3, 0],\n",
       "       [4, 4, 0]])"
      ]
     },
     "execution_count": 138,
     "metadata": {},
     "output_type": "execute_result"
    }
   ],
   "source": [
    "no_groups"
   ]
  },
  {
   "cell_type": "code",
   "execution_count": 140,
   "id": "bebb4b5a",
   "metadata": {
    "scrolled": true
   },
   "outputs": [
    {
     "data": {
      "text/html": [
       "<div>\n",
       "<style scoped>\n",
       "    .dataframe tbody tr th:only-of-type {\n",
       "        vertical-align: middle;\n",
       "    }\n",
       "\n",
       "    .dataframe tbody tr th {\n",
       "        vertical-align: top;\n",
       "    }\n",
       "\n",
       "    .dataframe thead th {\n",
       "        text-align: right;\n",
       "    }\n",
       "</style>\n",
       "<table border=\"1\" class=\"dataframe\">\n",
       "  <thead>\n",
       "    <tr style=\"text-align: right;\">\n",
       "      <th></th>\n",
       "      <th></th>\n",
       "      <th></th>\n",
       "    </tr>\n",
       "    <tr>\n",
       "      <th>2</th>\n",
       "      <th>1</th>\n",
       "      <th>0</th>\n",
       "    </tr>\n",
       "  </thead>\n",
       "  <tbody>\n",
       "    <tr>\n",
       "      <th rowspan=\"5\" valign=\"top\">0</th>\n",
       "      <th rowspan=\"2\" valign=\"top\">0</th>\n",
       "      <th>0</th>\n",
       "    </tr>\n",
       "    <tr>\n",
       "      <th>1</th>\n",
       "    </tr>\n",
       "    <tr>\n",
       "      <th>2</th>\n",
       "      <th>2</th>\n",
       "    </tr>\n",
       "    <tr>\n",
       "      <th>3</th>\n",
       "      <th>3</th>\n",
       "    </tr>\n",
       "    <tr>\n",
       "      <th>4</th>\n",
       "      <th>4</th>\n",
       "    </tr>\n",
       "  </tbody>\n",
       "</table>\n",
       "</div>"
      ],
      "text/plain": [
       "Empty DataFrame\n",
       "Columns: []\n",
       "Index: [(0, 0, 0), (0, 0, 1), (0, 2, 2), (0, 3, 3), (0, 4, 4)]"
      ]
     },
     "execution_count": 140,
     "metadata": {},
     "output_type": "execute_result"
    }
   ],
   "source": [
    "new1 = pd.DataFrame(no_groups)\n",
    "new1.groupby(list(new1.columns)[::-1]).sum()  # first two are in same group and rest 2/3/4 are in different groups"
   ]
  },
  {
   "cell_type": "markdown",
   "id": "6c8c4be0",
   "metadata": {},
   "source": [
    "## complete link"
   ]
  },
  {
   "cell_type": "code",
   "execution_count": 141,
   "id": "201b9552",
   "metadata": {},
   "outputs": [
    {
     "data": {
      "text/plain": [
       "AgglomerativeClustering(linkage='complete', n_clusters=4)"
      ]
     },
     "execution_count": 141,
     "metadata": {},
     "output_type": "execute_result"
    }
   ],
   "source": [
    "from sklearn.cluster import AgglomerativeClustering\n",
    "model = AgglomerativeClustering(n_clusters=4,  linkage='complete')\n",
    "model.fit(Vector_form_test[50:55,:])"
   ]
  },
  {
   "cell_type": "code",
   "execution_count": 142,
   "id": "b4ba1604",
   "metadata": {},
   "outputs": [
    {
     "data": {
      "text/plain": [
       "array([0, 0, 3, 2, 1], dtype=int64)"
      ]
     },
     "execution_count": 142,
     "metadata": {},
     "output_type": "execute_result"
    }
   ],
   "source": [
    "model.labels_ # same output of manual and using Library for both single and complete"
   ]
  },
  {
   "cell_type": "code",
   "execution_count": 147,
   "id": "750826e7",
   "metadata": {},
   "outputs": [
    {
     "name": "stdout",
     "output_type": "stream",
     "text": [
      "distance table\n",
      "[[0.         1.39585017 1.41421356 1.41421356 1.41421356]\n",
      " [1.39585017 0.         1.41421356 1.41421356 1.41421356]\n",
      " [1.41421356 1.41421356 0.         1.41421356 1.41421356]\n",
      " [1.41421356 1.41421356 1.41421356 0.         1.41421356]\n",
      " [1.41421356 1.41421356 1.41421356 1.41421356 0.        ]]\n",
      "\n",
      "REGROUP\n",
      "distance table\n",
      "[[0.         1.41421356 1.41421356 1.41421356]\n",
      " [1.41421356 0.         1.41421356 1.41421356]\n",
      " [1.41421356 1.41421356 0.         1.41421356]\n",
      " [1.41421356 1.41421356 1.41421356 0.        ]]\n",
      "\n",
      "REGROUP\n",
      "distance table\n",
      "[[0.         1.41421356]\n",
      " [1.41421356 0.        ]]\n",
      "\n",
      "REGROUP\n"
     ]
    }
   ],
   "source": [
    "dMatrix_temp =Vector_form_test[50:55,:].copy()\n",
    "no_groups = np.arange(0,dMatrix_temp.shape[0]).reshape(-1,1)\n",
    "while len(set(no_groups[:,-1:].flatten()  )) != 1:\n",
    "  ## keep combining\n",
    "  map_labels = no_groups[:,-1].flatten() # it is 1D\n",
    "  list_labels = list(set(map_labels))\n",
    "  map_list = list(range(len(list_labels)))\n",
    "  # maps to original labels\n",
    "  dict_list = dict(zip(list_labels, map_list))\n",
    "  rev_dict_list = dict(zip(map_list, list_labels))\n",
    "  #\n",
    "  distance_table = np.zeros((len(list_labels),len(list_labels)))\n",
    "  for class_i in list_labels:\n",
    "    for class_j in list_labels:\n",
    "      if class_i < class_j:\n",
    "        sub_Matrix_class_i = dMatrix_temp[map_labels==class_i]\n",
    "        sub_Matrix_class_j = dMatrix_temp[map_labels==class_j]\n",
    "\n",
    "        # single link\n",
    "        \"\"\"\n",
    "        min_val = None\n",
    "        for vector in sub_Matrix_class_j:\n",
    "          v=np.min(np.sqrt(np.sum(np.square(sub_Matrix_class_i-vector), axis=1)))\n",
    "          if min_val is None:\n",
    "            min_val  = v\n",
    "          else:\n",
    "            min_val = min(min_val,v)\n",
    "        distance_table[dict_list[class_i],dict_list[class_j]] = min_val\n",
    "        distance_table[dict_list[class_j],dict_list[class_i]] = min_val\n",
    "\n",
    "        # Complete link\n",
    "        \"\"\"\n",
    "        max_val = None\n",
    "        for vector in sub_Matrix_class_j:\n",
    "          v=np.max(np.sqrt(np.sum(np.square(sub_Matrix_class_i-vector), axis=1)))\n",
    "          if max_val is None:\n",
    "            max_val  = v\n",
    "          else:\n",
    "            max_val = max(min_val,v)\n",
    "        distance_table[dict_list[class_i],dict_list[class_j]] = max_val\n",
    "        distance_table[dict_list[class_j],dict_list[class_i]] = max_val\n",
    "        #\"\"\"\n",
    "\n",
    "  print(\"distance table\")\n",
    "  print(distance_table)\n",
    "  print()\n",
    "  print(\"REGROUP\")\n",
    "\n",
    "  # Let's regroup\n",
    "  \n",
    "  max_v = np.max(distance_table)\n",
    "  for i in range(distance_table.shape[0]):\n",
    "    distance_table[i,i] = max_v +100\n",
    "  temp_group=no_groups[:,-1:].flatten()\n",
    "  min_v = np.min(distance_table)\n",
    "  a,b = np.where(distance_table==min_v)\n",
    "  sorted_list=sorted(list(zip(a,b)), key=lambda x: x[0])\n",
    "  reverse_map_list = [(rev_dict_list[i],rev_dict_list[j]) for i,j in sorted_list]\n",
    "  # print(\"*\"*40)\n",
    "  for i,j in reverse_map_list:\n",
    "    val_i = temp_group[i]\n",
    "    val_j = temp_group[j]\n",
    "    min_ij = min(val_i, val_j)\n",
    "    temp_group[temp_group==val_i] = min_ij\n",
    "    temp_group[temp_group==val_j] = min_ij\n",
    "  no_groups = np.hstack((no_groups, temp_group.reshape(-1,1)))\n",
    "  distance_table[distance_table==min_v] = max_v+100\n"
   ]
  },
  {
   "cell_type": "code",
   "execution_count": 148,
   "id": "f1877591",
   "metadata": {},
   "outputs": [
    {
     "data": {
      "text/plain": [
       "array([[101.41421356, 101.41421356],\n",
       "       [101.41421356, 101.41421356]])"
      ]
     },
     "execution_count": 148,
     "metadata": {},
     "output_type": "execute_result"
    }
   ],
   "source": [
    "distance_table"
   ]
  },
  {
   "cell_type": "code",
   "execution_count": 149,
   "id": "3c2f2b60",
   "metadata": {},
   "outputs": [
    {
     "data": {
      "text/plain": [
       "array([[0, 0, 0, 0],\n",
       "       [1, 0, 0, 0],\n",
       "       [2, 2, 0, 0],\n",
       "       [3, 3, 3, 0],\n",
       "       [4, 4, 0, 0]])"
      ]
     },
     "execution_count": 149,
     "metadata": {},
     "output_type": "execute_result"
    }
   ],
   "source": [
    "no_groups"
   ]
  },
  {
   "cell_type": "code",
   "execution_count": 150,
   "id": "23213762",
   "metadata": {},
   "outputs": [
    {
     "data": {
      "text/html": [
       "<div>\n",
       "<style scoped>\n",
       "    .dataframe tbody tr th:only-of-type {\n",
       "        vertical-align: middle;\n",
       "    }\n",
       "\n",
       "    .dataframe tbody tr th {\n",
       "        vertical-align: top;\n",
       "    }\n",
       "\n",
       "    .dataframe thead th {\n",
       "        text-align: right;\n",
       "    }\n",
       "</style>\n",
       "<table border=\"1\" class=\"dataframe\">\n",
       "  <thead>\n",
       "    <tr style=\"text-align: right;\">\n",
       "      <th></th>\n",
       "      <th></th>\n",
       "      <th></th>\n",
       "      <th></th>\n",
       "    </tr>\n",
       "    <tr>\n",
       "      <th>3</th>\n",
       "      <th>2</th>\n",
       "      <th>1</th>\n",
       "      <th>0</th>\n",
       "    </tr>\n",
       "  </thead>\n",
       "  <tbody>\n",
       "    <tr>\n",
       "      <th rowspan=\"5\" valign=\"top\">0</th>\n",
       "      <th rowspan=\"4\" valign=\"top\">0</th>\n",
       "      <th rowspan=\"2\" valign=\"top\">0</th>\n",
       "      <th>0</th>\n",
       "    </tr>\n",
       "    <tr>\n",
       "      <th>1</th>\n",
       "    </tr>\n",
       "    <tr>\n",
       "      <th>2</th>\n",
       "      <th>2</th>\n",
       "    </tr>\n",
       "    <tr>\n",
       "      <th>4</th>\n",
       "      <th>4</th>\n",
       "    </tr>\n",
       "    <tr>\n",
       "      <th>3</th>\n",
       "      <th>3</th>\n",
       "      <th>3</th>\n",
       "    </tr>\n",
       "  </tbody>\n",
       "</table>\n",
       "</div>"
      ],
      "text/plain": [
       "Empty DataFrame\n",
       "Columns: []\n",
       "Index: [(0, 0, 0, 0), (0, 0, 0, 1), (0, 0, 2, 2), (0, 0, 4, 4), (0, 3, 3, 3)]"
      ]
     },
     "execution_count": 150,
     "metadata": {},
     "output_type": "execute_result"
    }
   ],
   "source": [
    "new1 = pd.DataFrame(no_groups)\n",
    "new1.groupby(list(new1.columns)[::-1]).sum()  # first two are in same group and rest 2/3/4 are in different groups array([0, 0, 3, 2, 1], dtype=int64)"
   ]
  },
  {
   "cell_type": "markdown",
   "id": "165b2d5d",
   "metadata": {},
   "source": [
    "## Done"
   ]
  },
  {
   "cell_type": "code",
   "execution_count": null,
   "id": "1f5edd0a",
   "metadata": {},
   "outputs": [],
   "source": []
  }
 ],
 "metadata": {
  "kernelspec": {
   "display_name": "Python 3",
   "language": "python",
   "name": "python3"
  },
  "language_info": {
   "codemirror_mode": {
    "name": "ipython",
    "version": 3
   },
   "file_extension": ".py",
   "mimetype": "text/x-python",
   "name": "python",
   "nbconvert_exporter": "python",
   "pygments_lexer": "ipython3",
   "version": "3.8.10"
  }
 },
 "nbformat": 4,
 "nbformat_minor": 5
}
