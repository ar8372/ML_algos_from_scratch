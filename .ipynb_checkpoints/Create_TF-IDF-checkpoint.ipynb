{
 "cells": [
  {
   "cell_type": "markdown",
   "id": "6dffd40d",
   "metadata": {},
   "source": [
    "# Imports"
   ]
  },
  {
   "cell_type": "code",
   "execution_count": 21,
   "id": "7e505082",
   "metadata": {},
   "outputs": [
    {
     "name": "stderr",
     "output_type": "stream",
     "text": [
      "[nltk_data] Downloading package stopwords to C:\\Users\\aman\n",
      "[nltk_data]     raj\\AppData\\Roaming\\nltk_data...\n",
      "[nltk_data]   Package stopwords is already up-to-date!\n"
     ]
    }
   ],
   "source": [
    "import numpy as np\n",
    "import pandas as pd\n",
    "import seaborn as sns\n",
    "\n",
    "import matplotlib.pyplot as plt\n",
    "%matplotlib inline\n",
    "\n",
    "import re\n",
    "import nltk\n",
    "from nltk.corpus import stopwords\n",
    "from nltk.stem.porter import PorterStemmer\n",
    "porter = PorterStemmer()\n",
    "nltk.download('stopwords')\n",
    "stop_words=set(stopwords.words(\"english\"))\n",
    "##############################################################"
   ]
  },
  {
   "cell_type": "markdown",
   "id": "bd58a153",
   "metadata": {},
   "source": [
    "# Spam vs Ham Dataset"
   ]
  },
  {
   "cell_type": "code",
   "execution_count": 22,
   "id": "f5604221",
   "metadata": {},
   "outputs": [
    {
     "data": {
      "text/html": [
       "<div>\n",
       "<style scoped>\n",
       "    .dataframe tbody tr th:only-of-type {\n",
       "        vertical-align: middle;\n",
       "    }\n",
       "\n",
       "    .dataframe tbody tr th {\n",
       "        vertical-align: top;\n",
       "    }\n",
       "\n",
       "    .dataframe thead th {\n",
       "        text-align: right;\n",
       "    }\n",
       "</style>\n",
       "<table border=\"1\" class=\"dataframe\">\n",
       "  <thead>\n",
       "    <tr style=\"text-align: right;\">\n",
       "      <th></th>\n",
       "      <th>label</th>\n",
       "      <th>message</th>\n",
       "    </tr>\n",
       "  </thead>\n",
       "  <tbody>\n",
       "    <tr>\n",
       "      <th>0</th>\n",
       "      <td>ham</td>\n",
       "      <td>Go until jurong point, crazy.. Available only ...</td>\n",
       "    </tr>\n",
       "    <tr>\n",
       "      <th>1</th>\n",
       "      <td>ham</td>\n",
       "      <td>Ok lar... Joking wif u oni...</td>\n",
       "    </tr>\n",
       "  </tbody>\n",
       "</table>\n",
       "</div>"
      ],
      "text/plain": [
       "  label                                            message\n",
       "0   ham  Go until jurong point, crazy.. Available only ...\n",
       "1   ham                      Ok lar... Joking wif u oni..."
      ]
     },
     "execution_count": 22,
     "metadata": {},
     "output_type": "execute_result"
    }
   ],
   "source": [
    "data = pd.read_csv(\"./Datasets/SMSSpamCollection\", sep='\\t', names=['label','message'])\n",
    "data.head(2)"
   ]
  },
  {
   "cell_type": "code",
   "execution_count": 23,
   "id": "262a6f0f",
   "metadata": {},
   "outputs": [
    {
     "data": {
      "text/plain": [
       "'Go until jurong point, crazy.. Available only in bugis n great world la e buffet... Cine there got amore wat...'"
      ]
     },
     "execution_count": 23,
     "metadata": {},
     "output_type": "execute_result"
    }
   ],
   "source": [
    "list(data.message)[0]"
   ]
  },
  {
   "cell_type": "code",
   "execution_count": 24,
   "id": "ef2b4cfb",
   "metadata": {},
   "outputs": [],
   "source": [
    "def rem_symbols(line):\n",
    "      return re.sub(\"[^A-Aa-z0-9\\s]+\",'', line)\n",
    "\n",
    "def preprocess_string(x):\n",
    "      global term_list\n",
    "      final_list = []\n",
    "      x = x.strip()\n",
    "      x = x.replace(',',' ').split(' ')\n",
    "      for word in x:\n",
    "            word = rem_symbols(word)\n",
    "            if word and word not in stop_words:\n",
    "              word = porter.stem(word)\n",
    "              final_list.append(word)\n",
    "      term_list = term_list.union(set(final_list))\n",
    "      return final_list"
   ]
  },
  {
   "cell_type": "code",
   "execution_count": 25,
   "id": "6887a9d5",
   "metadata": {},
   "outputs": [],
   "source": [
    "term_list = set()\n",
    "doc_list = []\n",
    "\n",
    "def create_tf_matrix(List_of_docs):\n",
    "      global term_list\n",
    "      List_of_terms = [preprocess_string(x) for x in List_of_docs]\n",
    "      new_term_list = list(term_list)\n",
    "      tf_matrix = np.zeros((len(List_of_terms),len(new_term_list)))\n",
    "      for i,doc in enumerate(List_of_terms):\n",
    "        tf_matrix[i] = np.array([doc.count(i) for i in new_term_list])\n",
    "      return tf_matrix, new_term_list"
   ]
  },
  {
   "cell_type": "code",
   "execution_count": 26,
   "id": "dfcd7927",
   "metadata": {},
   "outputs": [],
   "source": [
    "def tf_idf_from_tf(tf_matrix):\n",
    "      tf = tf_matrix\n",
    "      df=np.sum(tf_matrix != 0, axis= 0)\n",
    "      print('how many doc contains the term')\n",
    "      print(df)\n",
    "      N = tf_matrix.shape[0]\n",
    "      print(\"no of docs\")\n",
    "      print(N)\n",
    "      log_n_df   = np.log(N/df)\n",
    "      print(\"log(N/df)\")\n",
    "      print(log_n_df)\n",
    "      return tf*log_n_df"
   ]
  },
  {
   "cell_type": "code",
   "execution_count": 27,
   "id": "54024073",
   "metadata": {},
   "outputs": [
    {
     "name": "stdout",
     "output_type": "stream",
     "text": [
      "how many doc contains the term\n",
      "[ 7  2  1 ...  1  1 13]\n",
      "no of docs\n",
      "5572\n",
      "log(N/df)\n",
      "[6.67959919 7.93236215 8.62550933 ... 8.62550933 8.62550933 6.06055998]\n"
     ]
    }
   ],
   "source": [
    "term_list = set()\n",
    "doc_list = []\n",
    "tf_matrix, term_list = create_tf_matrix(list(data.message))\n",
    "tf_idf=tf_idf_from_tf(tf_matrix)"
   ]
  },
  {
   "cell_type": "code",
   "execution_count": 28,
   "id": "d8a79d0f",
   "metadata": {},
   "outputs": [
    {
     "data": {
      "text/plain": [
       "((5572, 8035), 8035)"
      ]
     },
     "execution_count": 28,
     "metadata": {},
     "output_type": "execute_result"
    }
   ],
   "source": [
    "tf_idf.shape, len(term_list)"
   ]
  },
  {
   "cell_type": "code",
   "execution_count": 29,
   "id": "f6bdd148",
   "metadata": {},
   "outputs": [
    {
     "data": {
      "text/plain": [
       "<AxesSubplot:>"
      ]
     },
     "execution_count": 29,
     "metadata": {},
     "output_type": "execute_result"
    },
    {
     "data": {
      "image/png": "[encoded data removed]",
      "text/plain": [
       "<Figure size 432x288 with 2 Axes>"
      ]
     },
     "metadata": {
      "needs_background": "light"
     },
     "output_type": "display_data"
    }
   ],
   "source": [
    "sns.heatmap(tf_idf)"
   ]
  },
  {
   "cell_type": "code",
   "execution_count": 30,
   "id": "967b1601",
   "metadata": {},
   "outputs": [
    {
     "data": {
      "text/plain": [
       "48832"
      ]
     },
     "execution_count": 30,
     "metadata": {},
     "output_type": "execute_result"
    }
   ],
   "source": [
    "np.sum(tf_idf != 0)"
   ]
  },
  {
   "cell_type": "code",
   "execution_count": null,
   "id": "37f69fdc",
   "metadata": {},
   "outputs": [],
   "source": []
  }
 ],
 "metadata": {
  "kernelspec": {
   "display_name": "Python 3",
   "language": "python",
   "name": "python3"
  },
  "language_info": {
   "codemirror_mode": {
    "name": "ipython",
    "version": 3
   },
   "file_extension": ".py",
   "mimetype": "text/x-python",
   "name": "python",
   "nbconvert_exporter": "python",
   "pygments_lexer": "ipython3",
   "version": "3.8.10"
  }
 },
 "nbformat": 4,
 "nbformat_minor": 5
}
