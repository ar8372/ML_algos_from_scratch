{
 "cells": [
  {
   "cell_type": "markdown",
   "id": "bc9880bf",
   "metadata": {},
   "source": [
    "# Imports"
   ]
  },
  {
   "cell_type": "code",
   "execution_count": 56,
   "id": "ad4c1c28",
   "metadata": {},
   "outputs": [
    {
     "name": "stderr",
     "output_type": "stream",
     "text": [
      "[nltk_data] Downloading package stopwords to C:\\Users\\aman\n",
      "[nltk_data]     raj\\AppData\\Roaming\\nltk_data...\n",
      "[nltk_data]   Package stopwords is already up-to-date!\n"
     ]
    },
    {
     "data": {
      "text/plain": [
       "'!\"#$%&\\'()*+,-./:;<=>?@[\\\\]^_`{|}~'"
      ]
     },
     "execution_count": 56,
     "metadata": {},
     "output_type": "execute_result"
    }
   ],
   "source": [
    "import numpy as np\n",
    "import pandas as pd\n",
    "import seaborn as sns\n",
    "\n",
    "import matplotlib.pyplot as plt\n",
    "%matplotlib inline\n",
    "\n",
    "import re\n",
    "import nltk\n",
    "from nltk.corpus import stopwords\n",
    "from nltk.stem.porter import PorterStemmer\n",
    "porter = PorterStemmer()\n",
    "nltk.download('stopwords')\n",
    "stop_words=set(stopwords.words(\"english\"))\n",
    "##############################################################\n",
    "import string\n",
    "string.punctuation"
   ]
  },
  {
   "cell_type": "markdown",
   "id": "6ed10899",
   "metadata": {},
   "source": [
    "# Spam vs Ham Dataset"
   ]
  },
  {
   "cell_type": "code",
   "execution_count": 57,
   "id": "2b18045f",
   "metadata": {},
   "outputs": [
    {
     "data": {
      "text/html": [
       "<div>\n",
       "<style scoped>\n",
       "    .dataframe tbody tr th:only-of-type {\n",
       "        vertical-align: middle;\n",
       "    }\n",
       "\n",
       "    .dataframe tbody tr th {\n",
       "        vertical-align: top;\n",
       "    }\n",
       "\n",
       "    .dataframe thead th {\n",
       "        text-align: right;\n",
       "    }\n",
       "</style>\n",
       "<table border=\"1\" class=\"dataframe\">\n",
       "  <thead>\n",
       "    <tr style=\"text-align: right;\">\n",
       "      <th></th>\n",
       "      <th>label</th>\n",
       "      <th>message</th>\n",
       "    </tr>\n",
       "  </thead>\n",
       "  <tbody>\n",
       "    <tr>\n",
       "      <th>0</th>\n",
       "      <td>ham</td>\n",
       "      <td>Go until jurong point, crazy.. Available only ...</td>\n",
       "    </tr>\n",
       "    <tr>\n",
       "      <th>1</th>\n",
       "      <td>ham</td>\n",
       "      <td>Ok lar... Joking wif u oni...</td>\n",
       "    </tr>\n",
       "  </tbody>\n",
       "</table>\n",
       "</div>"
      ],
      "text/plain": [
       "  label                                            message\n",
       "0   ham  Go until jurong point, crazy.. Available only ...\n",
       "1   ham                      Ok lar... Joking wif u oni..."
      ]
     },
     "execution_count": 57,
     "metadata": {},
     "output_type": "execute_result"
    }
   ],
   "source": [
    "data = pd.read_csv(\"./Datasets/SMSSpamCollection\", sep='\\t', names=['label','message'])\n",
    "data.head(2)"
   ]
  },
  {
   "cell_type": "code",
   "execution_count": 58,
   "id": "6de9aa2f",
   "metadata": {},
   "outputs": [
    {
     "data": {
      "text/plain": [
       "('Go until jurong point, crazy.. Available only in bugis n great world la e buffet... Cine there got amore wat...',\n",
       " (5572, 2))"
      ]
     },
     "execution_count": 58,
     "metadata": {},
     "output_type": "execute_result"
    }
   ],
   "source": [
    "list(data.message)[0], data.shape"
   ]
  },
  {
   "cell_type": "code",
   "execution_count": 59,
   "id": "26841ca6",
   "metadata": {},
   "outputs": [
    {
     "data": {
      "text/html": [
       "<div>\n",
       "<style scoped>\n",
       "    .dataframe tbody tr th:only-of-type {\n",
       "        vertical-align: middle;\n",
       "    }\n",
       "\n",
       "    .dataframe tbody tr th {\n",
       "        vertical-align: top;\n",
       "    }\n",
       "\n",
       "    .dataframe thead th {\n",
       "        text-align: right;\n",
       "    }\n",
       "</style>\n",
       "<table border=\"1\" class=\"dataframe\">\n",
       "  <thead>\n",
       "    <tr style=\"text-align: right;\">\n",
       "      <th></th>\n",
       "      <th>label</th>\n",
       "      <th>message</th>\n",
       "    </tr>\n",
       "  </thead>\n",
       "  <tbody>\n",
       "    <tr>\n",
       "      <th>0</th>\n",
       "      <td>0</td>\n",
       "      <td>Go until jurong point, crazy.. Available only ...</td>\n",
       "    </tr>\n",
       "    <tr>\n",
       "      <th>1</th>\n",
       "      <td>0</td>\n",
       "      <td>Ok lar... Joking wif u oni...</td>\n",
       "    </tr>\n",
       "  </tbody>\n",
       "</table>\n",
       "</div>"
      ],
      "text/plain": [
       "   label                                            message\n",
       "0      0  Go until jurong point, crazy.. Available only ...\n",
       "1      0                      Ok lar... Joking wif u oni..."
      ]
     },
     "execution_count": 59,
     "metadata": {},
     "output_type": "execute_result"
    }
   ],
   "source": [
    "data['label'] = (data.label =='spam').astype(int)\n",
    "data.head(2)"
   ]
  },
  {
   "cell_type": "code",
   "execution_count": 60,
   "id": "11883bec",
   "metadata": {},
   "outputs": [
    {
     "data": {
      "text/plain": [
       "((3733,), (1839,), (3733,), (1839,))"
      ]
     },
     "execution_count": 60,
     "metadata": {},
     "output_type": "execute_result"
    }
   ],
   "source": [
    "X = data.message \n",
    "y = data.label\n",
    "from sklearn.model_selection import train_test_split\n",
    "X_train, X_test, y_train, y_test = train_test_split(X, y, test_size=0.33, random_state=42)\n",
    "X_train.shape, X_test.shape, y_train.shape, y_test.shape"
   ]
  },
  {
   "cell_type": "code",
   "execution_count": 61,
   "id": "400c89ef",
   "metadata": {},
   "outputs": [],
   "source": [
    "def text_process(mess):\n",
    "    nopunc = [char for char in mess if char not in string.punctuation]\n",
    "    nopunc = \"\".join(nopunc)\n",
    "    return [porter.stem(word) for word in nopunc.split() if word.lower() not in stopwords.words('english')]"
   ]
  },
  {
   "cell_type": "markdown",
   "id": "e6bd1668",
   "metadata": {},
   "source": [
    "## CountVectorizer "
   ]
  },
  {
   "cell_type": "code",
   "execution_count": 68,
   "id": "918692f1",
   "metadata": {},
   "outputs": [],
   "source": [
    "from sklearn.feature_extraction.text import CountVectorizer\n",
    "bow_transformer= CountVectorizer(analyzer=text_process)\n",
    "bow_transformer.fit(X_train)\n",
    "messages_bow_train = bow_transformer.transform(X_train)\n",
    "messages_bow_test = bow_transformer.transform(X_test)"
   ]
  },
  {
   "cell_type": "code",
   "execution_count": 69,
   "id": "91403aa3",
   "metadata": {},
   "outputs": [
    {
     "data": {
      "text/plain": [
       "(33657, (3733, 6595))"
      ]
     },
     "execution_count": 69,
     "metadata": {},
     "output_type": "execute_result"
    }
   ],
   "source": [
    "(messages_bow_train.todense() != 0).sum(), messages_bow_train.shape"
   ]
  },
  {
   "cell_type": "markdown",
   "id": "d0c3b5f3",
   "metadata": {},
   "source": [
    "## TfidfTransformer"
   ]
  },
  {
   "cell_type": "code",
   "execution_count": 70,
   "id": "57088008",
   "metadata": {},
   "outputs": [],
   "source": [
    "from sklearn.feature_extraction.text import TfidfTransformer\n",
    "tfidf_transformer = TfidfTransformer()\n",
    "tfidf_transformer.fit(messages_bow_train)\n",
    "tfidf_train = tfidf_transformer.transform(messages_bow_train)\n",
    "tfidf_test = tfidf_transformer.transform(messages_bow_test)"
   ]
  },
  {
   "cell_type": "code",
   "execution_count": 72,
   "id": "8d100709",
   "metadata": {},
   "outputs": [
    {
     "data": {
      "text/plain": [
       "(33657, (3733, 6595))"
      ]
     },
     "execution_count": 72,
     "metadata": {},
     "output_type": "execute_result"
    }
   ],
   "source": [
    "(tfidf_train.todense() != 0).sum(), tfidf_train.shape"
   ]
  },
  {
   "cell_type": "code",
   "execution_count": 76,
   "id": "2cdbcac2",
   "metadata": {},
   "outputs": [
    {
     "data": {
      "text/plain": [
       "33657"
      ]
     },
     "execution_count": 76,
     "metadata": {},
     "output_type": "execute_result"
    }
   ],
   "source": [
    "np.sum(tfidf_train.todense() != 0)"
   ]
  },
  {
   "cell_type": "code",
   "execution_count": 101,
   "id": "212fe26f",
   "metadata": {},
   "outputs": [
    {
     "data": {
      "text/plain": [
       "((3733, 6595), (1839, 6595), (3733,), (1839,))"
      ]
     },
     "execution_count": 101,
     "metadata": {},
     "output_type": "execute_result"
    }
   ],
   "source": [
    "Vector_form_train = np.array(tfidf_train.todense())\n",
    "Vector_form_test = np.array(tfidf_test.todense())\n",
    "Vector_form_train.shape, Vector_form_test.shape, y_train.shape,  y_test.shape"
   ]
  },
  {
   "cell_type": "markdown",
   "id": "b9a004e3",
   "metadata": {},
   "source": [
    "# Algorithm"
   ]
  },
  {
   "cell_type": "markdown",
   "id": "8dafbae7",
   "metadata": {},
   "source": [
    "##  Rocchio Classifier"
   ]
  },
  {
   "cell_type": "code",
   "execution_count": 102,
   "id": "114e19f2",
   "metadata": {},
   "outputs": [],
   "source": [
    "# Train centroids"
   ]
  },
  {
   "cell_type": "code",
   "execution_count": 103,
   "id": "7e6b82e0",
   "metadata": {},
   "outputs": [
    {
     "data": {
      "text/plain": [
       "(2, 6595)"
      ]
     },
     "execution_count": 103,
     "metadata": {},
     "output_type": "execute_result"
    }
   ],
   "source": [
    "Vector_centroids = np.zeros((2,Vector_form_train.shape[-1]))\n",
    "Vector_centroids.shape"
   ]
  },
  {
   "cell_type": "code",
   "execution_count": 104,
   "id": "7a9c2bf8",
   "metadata": {},
   "outputs": [],
   "source": [
    "for i in range(0,2): # all classes\n",
    "    Vector_centroids[i,:]=np.mean(Vector_form_train[y_train==i,:], axis=0)    # belongs to one class"
   ]
  },
  {
   "cell_type": "code",
   "execution_count": 105,
   "id": "80e4efba",
   "metadata": {},
   "outputs": [],
   "source": [
    "# Train normalize"
   ]
  },
  {
   "cell_type": "code",
   "execution_count": 106,
   "id": "1c0b30e3",
   "metadata": {},
   "outputs": [
    {
     "data": {
      "text/plain": [
       "(2, 6595)"
      ]
     },
     "execution_count": 106,
     "metadata": {},
     "output_type": "execute_result"
    }
   ],
   "source": [
    "Vector_centroids_normalized =np.divide(Vector_centroids,np.sqrt(np.sum(Vector_centroids**2, axis=1))[:,None])\n",
    "Vector_centroids_normalized.shape"
   ]
  },
  {
   "cell_type": "code",
   "execution_count": 107,
   "id": "85082a12",
   "metadata": {},
   "outputs": [
    {
     "data": {
      "text/plain": [
       "(1839, 6595)"
      ]
     },
     "execution_count": 107,
     "metadata": {},
     "output_type": "execute_result"
    }
   ],
   "source": [
    "# Test normalize\n",
    "Vector_form_test.shape"
   ]
  },
  {
   "cell_type": "code",
   "execution_count": 129,
   "id": "56994736",
   "metadata": {},
   "outputs": [
    {
     "data": {
      "text/plain": [
       "(1839, 6595)"
      ]
     },
     "execution_count": 129,
     "metadata": {},
     "output_type": "execute_result"
    }
   ],
   "source": [
    "Vector_form_test_normalized =np.divide(Vector_form_test,np.clip(np.sqrt(np.sum(Vector_form_test**2, axis=1))[:,None],a_min=0.00001, a_max=1000)  )\n",
    "Vector_form_test_normalized.shape"
   ]
  },
  {
   "cell_type": "code",
   "execution_count": 130,
   "id": "01a2a255",
   "metadata": {},
   "outputs": [
    {
     "data": {
      "text/plain": [
       "(1839, 2)"
      ]
     },
     "execution_count": 130,
     "metadata": {},
     "output_type": "execute_result"
    }
   ],
   "source": [
    "Vector_output_test = np.zeros((Vector_form_test_normalized.shape[0],Vector_centroids_normalized.shape[0]))\n",
    "Vector_output_test.shape"
   ]
  },
  {
   "cell_type": "code",
   "execution_count": 131,
   "id": "f9ff43e3",
   "metadata": {},
   "outputs": [],
   "source": [
    "i = 0\n",
    "for center in Vector_form_test_normalized:\n",
    "    Vector_output_test[i]=np.dot(Vector_centroids_normalized,center)\n",
    "    i += 1"
   ]
  },
  {
   "cell_type": "code",
   "execution_count": 135,
   "id": "2e6bc694",
   "metadata": {},
   "outputs": [
    {
     "data": {
      "text/plain": [
       "(2, 6595)"
      ]
     },
     "execution_count": 135,
     "metadata": {},
     "output_type": "execute_result"
    }
   ],
   "source": [
    "Vector_centroids_normalized.shape"
   ]
  },
  {
   "cell_type": "code",
   "execution_count": 138,
   "id": "ac1238ee",
   "metadata": {},
   "outputs": [],
   "source": [
    "predictions= Vector_output_test.argmax(axis=1)"
   ]
  },
  {
   "cell_type": "code",
   "execution_count": 142,
   "id": "38085a27",
   "metadata": {},
   "outputs": [
    {
     "name": "stdout",
     "output_type": "stream",
     "text": [
      "0 0\n",
      "0 1\n",
      "1 0\n",
      "1 1\n"
     ]
    }
   ],
   "source": [
    "conf_matrix = np.zeros((2,2))\n",
    "for i in range(0,2): #for each class\n",
    "    temp = y_test[predictions== i]\n",
    "    unique, counts =np.unique(temp, return_counts=True)\n",
    "    for h,j in enumerate(unique):\n",
    "        print(i,int(j))\n",
    "        conf_matrix[i,int(j)] = counts[h]"
   ]
  },
  {
   "cell_type": "code",
   "execution_count": 146,
   "id": "a94bc6f6",
   "metadata": {},
   "outputs": [
    {
     "data": {
      "text/plain": [
       "<AxesSubplot:>"
      ]
     },
     "execution_count": 146,
     "metadata": {},
     "output_type": "execute_result"
    },
    {
     "data": {
      "image/png": "[encoded data removed]",
      "text/plain": [
       "<Figure size 720x360 with 2 Axes>"
      ]
     },
     "metadata": {
      "needs_background": "light"
     },
     "output_type": "display_data"
    }
   ],
   "source": [
    "plt.figure(figsize=(10,5))\n",
    "sns.heatmap(conf_matrix, annot= True)"
   ]
  },
  {
   "cell_type": "code",
   "execution_count": 147,
   "id": "46fcb5e7",
   "metadata": {},
   "outputs": [
    {
     "data": {
      "text/plain": [
       "array([[1506.,   14.],\n",
       "       [  87.,  232.]])"
      ]
     },
     "execution_count": 147,
     "metadata": {},
     "output_type": "execute_result"
    }
   ],
   "source": [
    "conf_matrix"
   ]
  },
  {
   "cell_type": "markdown",
   "id": "115a8a6a",
   "metadata": {},
   "source": [
    "## Done "
   ]
  },
  {
   "cell_type": "code",
   "execution_count": null,
   "id": "12929623",
   "metadata": {},
   "outputs": [],
   "source": []
  }
 ],
 "metadata": {
  "kernelspec": {
   "display_name": "Python 3",
   "language": "python",
   "name": "python3"
  },
  "language_info": {
   "codemirror_mode": {
    "name": "ipython",
    "version": 3
   },
   "file_extension": ".py",
   "mimetype": "text/x-python",
   "name": "python",
   "nbconvert_exporter": "python",
   "pygments_lexer": "ipython3",
   "version": "3.8.10"
  }
 },
 "nbformat": 4,
 "nbformat_minor": 5
}
